{
 "cells": [
  {
   "cell_type": "code",
   "execution_count": 1,
   "metadata": {},
   "outputs": [
    {
     "name": "stderr",
     "output_type": "stream",
     "text": [
      "c:\\users\\sol\\anaconda3\\envs\\tensorflow\\lib\\site-packages\\h5py\\__init__.py:36: FutureWarning: Conversion of the second argument of issubdtype from `float` to `np.floating` is deprecated. In future, it will be treated as `np.float64 == np.dtype(float).type`.\n",
      "  from ._conv import register_converters as _register_converters\n",
      "Using TensorFlow backend.\n"
     ]
    },
    {
     "name": "stdout",
     "output_type": "stream",
     "text": [
      "Loaded model from disk\n"
     ]
    }
   ],
   "source": [
    "from keras.models import Sequential\n",
    "from keras.layers.core import Dense, Dropout, Activation\n",
    "from keras.callbacks import ModelCheckpoint\n",
    "from keras.utils import np_utils\n",
    "from sklearn.metrics import roc_auc_score, roc_curve, auc\n",
    "from keras.optimizers import SGD, Adamax, Adagrad, Nadam\n",
    "from sklearn.preprocessing import LabelEncoder\n",
    "from sklearn.utils import class_weight\n",
    "# from sklearn.model_selection import StratifiedKFold\n",
    "from sklearn.model_selection import train_test_split\n",
    "\n",
    "import pandas as pd\n",
    "import seaborn as sns\n",
    "import matplotlib.pyplot as plt\n",
    "import numpy as np\n",
    "import tensorflow as tf\n",
    "from keras.models import model_from_json\n",
    "\n",
    "json_file = open(\"model_completed_set_3_markers.json\", \"r\")  # input json file here\n",
    "loaded_model_json = json_file.read()\n",
    "json_file.close()\n",
    "loaded_model = model_from_json(loaded_model_json)\n",
    "\n",
    "loaded_model.load_weights(\"model_completed_set_3_markers.h5\") # input model(h5) file here\n",
    "print(\"Loaded model from disk\")"
   ]
  },
  {
   "cell_type": "code",
   "execution_count": 10,
   "metadata": {},
   "outputs": [
    {
     "name": "stdout",
     "output_type": "stream",
     "text": [
      "acc : 100.00%\n",
      "18/18 [==============================] - 0s 56us/step\n",
      "\n",
      " test loss: 0.1581\n",
      "18/18 [==============================] - 0s 111us/step\n",
      "\n",
      " test accuracy: 1.0000\n",
      "Total roc auc score = 1.0000\n"
     ]
    }
   ],
   "source": [
    "tf = pd.read_csv('dataset/accuracy estimation for test_set_B.csv',\n",
    "                 names = [\"total-tau\",\"phospho-tau\",\"alpa-synuclein\",\"patients\"]) # input your data here\n",
    "\n",
    "dataset = tf.values\n",
    "X_test = dataset[:,[0,1,2]].astype(float)\n",
    "Y_test = dataset[:,3]\n",
    "\n",
    "e = LabelEncoder()\n",
    "e.fit(Y_test)\n",
    "Y = e.transform(Y_test)\n",
    "Y_test_encoded = np_utils.to_categorical(Y)\n",
    "\n",
    "class_weights_val = class_weight.compute_class_weight('balanced', np.unique(Y_test), Y_test)\n",
    "\n",
    "\n",
    "loaded_model.compile(loss=\"binary_crossentropy\", optimizer=\"Nadam\", metrics=[\"accuracy\"])\n",
    "\n",
    "\n",
    "\n",
    "# model evaluation\n",
    "score = loaded_model.evaluate(X_test, Y_test_encoded, verbose=0)\n",
    "\n",
    "AUC_score = roc_auc_score(Y_test_encoded, loaded_model.predict(X_test))\n",
    "\n",
    "print(\"%s : %.2f%%\" % (loaded_model.metrics_names[1], score[1]*100))\n",
    "print(\"\\n test loss: %.4f\" % (loaded_model.evaluate(X_test, Y_test_encoded)[0]))\n",
    "print(\"\\n test accuracy: %.4f\" % (loaded_model.evaluate(X_test, Y_test_encoded)[1]))\n",
    "print(\"Total roc auc score = {0:0.4f}\".format(AUC_score))"
   ]
  },
  {
   "cell_type": "code",
   "execution_count": 12,
   "metadata": {},
   "outputs": [
    {
     "name": "stdout",
     "output_type": "stream",
     "text": [
      "[1. 0.] [9.9947160e-01 5.2846683e-04]\n",
      "[1. 0.] [0.9644109  0.03558915]\n",
      "[1. 0.] [9.991385e-01 8.615153e-04]\n",
      "[1. 0.] [0.99807066 0.00192933]\n",
      "[1. 0.] [9.9908364e-01 9.1633986e-04]\n",
      "[1. 0.] [0.6694414  0.33055866]\n",
      "[1. 0.] [0.66827637 0.33172363]\n",
      "[1. 0.] [9.9951303e-01 4.8701873e-04]\n",
      "[1. 0.] [0.6581095 0.3418905]\n",
      "[1. 0.] [0.9788367  0.02116336]\n",
      "[1. 0.] [0.9986118  0.00138822]\n",
      "[1. 0.] [0.661338   0.33866203]\n",
      "[1. 0.] [0.98358595 0.01641412]\n",
      "[1. 0.] [0.9985039  0.00149606]\n",
      "[1. 0.] [1.0000000e+00 1.9808572e-36]\n",
      "[0. 1.] [0.3527368  0.64726317]\n",
      "[0. 1.] [0.33788016 0.6621198 ]\n",
      "[0. 1.] [0.24429421 0.75570583]\n"
     ]
    }
   ],
   "source": [
    "# Compare values between expected and observed\n",
    "Y_prediction = loaded_model.predict(X_test)\n",
    "for t in range(18):\n",
    "    print(Y_test_encoded[t], Y_prediction[t])"
   ]
  },
  {
   "cell_type": "code",
   "execution_count": null,
   "metadata": {},
   "outputs": [],
   "source": []
  }
 ],
 "metadata": {
  "kernelspec": {
   "display_name": "Python 3",
   "language": "python",
   "name": "python3"
  },
  "language_info": {
   "codemirror_mode": {
    "name": "ipython",
    "version": 3
   },
   "file_extension": ".py",
   "mimetype": "text/x-python",
   "name": "python",
   "nbconvert_exporter": "python",
   "pygments_lexer": "ipython3",
   "version": "3.5.4"
  }
 },
 "nbformat": 4,
 "nbformat_minor": 2
}
